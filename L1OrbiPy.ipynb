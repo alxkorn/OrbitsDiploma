{
 "cells": [
  {
   "cell_type": "code",
   "execution_count": 1,
   "metadata": {},
   "outputs": [],
   "source": [
    "import orbipy as op\n",
    "import numpy as np\n",
    "import pandas as pd"
   ]
  },
  {
   "cell_type": "code",
   "execution_count": 2,
   "metadata": {},
   "outputs": [],
   "source": [
    "import pickle"
   ]
  },
  {
   "cell_type": "code",
   "execution_count": 3,
   "metadata": {},
   "outputs": [],
   "source": [
    "import glob"
   ]
  },
  {
   "cell_type": "code",
   "execution_count": 4,
   "metadata": {},
   "outputs": [],
   "source": [
    "from IPython.display import clear_output"
   ]
  },
  {
   "cell_type": "code",
   "execution_count": 5,
   "metadata": {},
   "outputs": [],
   "source": [
    "import matplotlib.pyplot as plt\n",
    "%matplotlib inline"
   ]
  },
  {
   "cell_type": "code",
   "execution_count": 11,
   "metadata": {},
   "outputs": [],
   "source": [
    "model = op.crtbp3_model()\n",
    "precise_model = op.crtbp3_model()\n",
    "precise_model.integrator.set_params(max_step=np.pi/180)\n",
    "stm_model = op.crtbp3_model(stm=True)"
   ]
  },
  {
   "cell_type": "code",
   "execution_count": 12,
   "metadata": {},
   "outputs": [
    {
     "data": {
      "text/plain": [
       "0.009968050664477479"
      ]
     },
     "execution_count": 12,
     "metadata": {},
     "output_type": "execute_result"
    }
   ],
   "source": [
    "# Earth-L1 distance:\n",
    "EL1_dist = (1.0-model.mu) - model.L1\n",
    "EL1_dist"
   ]
  },
  {
   "cell_type": "code",
   "execution_count": 13,
   "metadata": {},
   "outputs": [],
   "source": [
    "# borders\n",
    "left = op.eventX(model.L1-EL1_dist)\n",
    "right = op.eventX(model.L1+EL1_dist-5000/model.R)"
   ]
  },
  {
   "cell_type": "code",
   "execution_count": 14,
   "metadata": {},
   "outputs": [],
   "source": [
    "plotter = op.plotter.from_model(model, length_units='Mm', velocity_units='km/s')"
   ]
  },
  {
   "cell_type": "code",
   "execution_count": 31,
   "metadata": {},
   "outputs": [
    {
     "data": {
      "text/plain": [
       "<matplotlib.legend.Legend at 0x281fdf29358>"
      ]
     },
     "execution_count": 31,
     "metadata": {},
     "output_type": "execute_result"
    },
    {
     "data": {
      "image/png": "[encoded data removed]",
      "text/plain": [
       "<Figure size 432x288 with 1 Axes>"
      ]
     },
     "metadata": {
      "needs_background": "light"
     },
     "output_type": "display_data"
    }
   ],
   "source": [
    "plt.plot(1.0-model.mu, 0.0, 'or', label='Earth')\n",
    "plt.plot(model.L1, 0.0, 'xb', label='L1')\n",
    "plt.axvline(model.L1-EL1_dist,c='k')\n",
    "plt.axvline(model.L1+EL1_dist-5000/model.R,c='k')\n",
    "plt.legend()"
   ]
  },
  {
   "cell_type": "code",
   "execution_count": 226,
   "metadata": {},
   "outputs": [],
   "source": [
    "s0 = model.get_zero_state()\n",
    "s0[0] = model.L1 - 40000/model.R\n",
    "s0[2] = 700000/model.R"
   ]
  },
  {
   "cell_type": "code",
   "execution_count": 42,
   "metadata": {},
   "outputs": [],
   "source": [
    "first_corr = op.border_correction(model, op.y_direction(), [left], [right])\n",
    "corr = op.border_correction(model, op.unstable_direction(stm_model), [left], [right])"
   ]
  },
  {
   "cell_type": "code",
   "execution_count": 43,
   "metadata": {},
   "outputs": [],
   "source": [
    "#events=[vx_stop, vy_stop, vz_stop]"
   ]
  },
  {
   "cell_type": "code",
   "execution_count": 44,
   "metadata": {},
   "outputs": [],
   "source": [
    "sk = op.simple_station_keeping(precise_model, first_corr, corr, rev=np.pi/2)"
   ]
  },
  {
   "cell_type": "code",
   "execution_count": 231,
   "metadata": {},
   "outputs": [
    {
     "name": "stdout",
     "output_type": "stream",
     "text": [
      "Simple station-keeping: 0 1 2 3 4 5 6 7 8 9 10 11 12 13 14 15 16 17 18 19 20 21 22 23 24 25 26 27 28 29 30 31 32 33 34 35 36 37 38 39 40 41 42 43 44 45 46 47 48 49 \n"
     ]
    }
   ],
   "source": [
    "df = sk.prop(0.0, s0, 50, ret_df=False)"
   ]
  },
  {
   "cell_type": "code",
   "execution_count": 232,
   "metadata": {},
   "outputs": [
    {
     "data": {
      "text/plain": [
       "(4371, 7)"
      ]
     },
     "execution_count": 232,
     "metadata": {},
     "output_type": "execute_result"
    }
   ],
   "source": [
    "df.shape"
   ]
  },
  {
   "cell_type": "code",
   "execution_count": 60,
   "metadata": {},
   "outputs": [],
   "source": [
    "#sk.dvout[:,-3:]"
   ]
  },
  {
   "cell_type": "code",
   "execution_count": 61,
   "metadata": {},
   "outputs": [],
   "source": [
    "#sk.evout"
   ]
  },
  {
   "cell_type": "code",
   "execution_count": 17,
   "metadata": {},
   "outputs": [],
   "source": [
    "scaler = plotter.scaler"
   ]
  },
  {
   "cell_type": "code",
   "execution_count": 45,
   "metadata": {},
   "outputs": [
    {
     "name": "stdout",
     "output_type": "stream",
     "text": [
      "z level: 170000.0 km\n",
      "x level: 149597110.23947147 km\n",
      "Simple station-keeping: "
     ]
    },
    {
     "name": "stderr",
     "output_type": "stream",
     "text": [
      "c:\\users\\alexander\\anaconda3\\envs\\orbits\\lib\\site-packages\\scipy\\integrate\\_ode.py:1177: UserWarning: dop853: larger nsteps is needed\n",
      "  self.messages.get(istate, unexpected_istate_msg)))\n"
     ]
    },
    {
     "name": "stdout",
     "output_type": "stream",
     "text": [
      "s0:  [0.99998068 0.         0.00113636 0.         0.         0.        ]\n",
      "Borders unreachable\n",
      "0.0011363636363636363\n"
     ]
    }
   ],
   "source": [
    "step = 10000/model.R\n",
    "#zpoint = -step\n",
    "zlv = 71\n",
    "for i in range(35):\n",
    "    zlv += 1\n",
    "    zpoint = zlv*step\n",
    "    xpoint = left.value\n",
    "    z_row = []\n",
    "    while xpoint < right.value:\n",
    "        xpoint += step\n",
    "        print('z level: {} km'.format(scaler(zpoint,'nd-km')))\n",
    "        print('x level: {} km'.format(scaler(xpoint,'nd-km')))\n",
    "        s0 = model.get_zero_state()\n",
    "        s0[0] = xpoint\n",
    "        s0[2] = zpoint\n",
    "        try: \n",
    "            df = sk.prop(0.0, s0, N=50)\n",
    "        except Exception as e:\n",
    "            print('s0: ',s0)\n",
    "            print(e)\n",
    "        else:\n",
    "            out = {}\n",
    "            #out['conv'] = np.abs(np.amax(sk.dvout[:,-3:])) < 1e-4\n",
    "            out['dv'] = sk.dvout[:,-3:]\n",
    "            out['orbit'] = df\n",
    "            z_row.append(out)\n",
    "            clear_output()\n",
    "    pickle.dump(z_row, open('Log/{}.bin'.format(zlv),'wb'))\n",
    "print(zpoint)"
   ]
  },
  {
   "cell_type": "code",
   "execution_count": 254,
   "metadata": {},
   "outputs": [
    {
     "data": {
      "text/plain": [
       "0"
      ]
     },
     "execution_count": 254,
     "metadata": {},
     "output_type": "execute_result"
    }
   ],
   "source": [
    "int(10*step)"
   ]
  },
  {
   "cell_type": "code",
   "execution_count": 46,
   "metadata": {},
   "outputs": [],
   "source": [
    "fnames = glob.glob('Log/*.bin')"
   ]
  },
  {
   "cell_type": "code",
   "execution_count": 47,
   "metadata": {},
   "outputs": [],
   "source": [
    "valid_stp = []\n",
    "for name in fnames:\n",
    "    z_row = pickle.load(open(name, 'rb'))\n",
    "    for elem in z_row:\n",
    "        if np.abs(elem['dv'][1:]).max() < 1e-4:\n",
    "            valid_stp.append(np.array(elem['orbit'].loc[0, ['x','z']]))"
   ]
  },
  {
   "cell_type": "code",
   "execution_count": 51,
   "metadata": {},
   "outputs": [],
   "source": [
    "valid_stp = np.array(valid_stp)\n",
    "valid_stp = scaler(valid_stp, 'nd-km')"
   ]
  },
  {
   "cell_type": "code",
   "execution_count": 55,
   "metadata": {},
   "outputs": [
    {
     "data": {
      "text/plain": [
       "array([[1.4756711e+08, 0.0000000e+00],\n",
       "       [1.4757711e+08, 0.0000000e+00],\n",
       "       [1.4758711e+08, 0.0000000e+00],\n",
       "       ...,\n",
       "       [1.4911711e+08, 9.0000000e+04],\n",
       "       [1.4912711e+08, 9.0000000e+04],\n",
       "       [1.4913711e+08, 9.0000000e+04]])"
      ]
     },
     "execution_count": 55,
     "metadata": {},
     "output_type": "execute_result"
    }
   ],
   "source": [
    "valid_stp"
   ]
  },
  {
   "cell_type": "code",
   "execution_count": 59,
   "metadata": {},
   "outputs": [
    {
     "data": {
      "text/plain": [
       "(146467988.20152864, 149748673.0362215, -34999.99999999997, 734999.9999999994)"
      ]
     },
     "execution_count": 59,
     "metadata": {},
     "output_type": "execute_result"
    },
    {
     "data": {
      "image/png": "[encoded data removed]",
      "text/plain": [
       "<Figure size 720x720 with 1 Axes>"
      ]
     },
     "metadata": {
      "needs_background": "light"
     },
     "output_type": "display_data"
    }
   ],
   "source": [
    "plt.figure(figsize=(10,10))\n",
    "plt.plot(valid_stp[:,0], valid_stp[:,1], 'ob')\n",
    "plt.axvline(scaler(left.value, 'nd-km'),c='k')\n",
    "plt.axvline(scaler(right.value, 'nd-km'),c='k')\n",
    "plt.plot(scaler(1.0-model.mu, 'nd-km'), 0.0, 'or', label='Earth')\n",
    "plt.plot(scaler(model.L1, 'nd-km'), 0.0, 'xr', label='L1')\n",
    "plt.ylim(-10, 15000000)\n",
    "plt.axis('equal')\n"
   ]
  },
  {
   "cell_type": "code",
   "execution_count": null,
   "metadata": {},
   "outputs": [],
   "source": []
  }
 ],
 "metadata": {
  "kernelspec": {
   "display_name": "Python 3",
   "language": "python",
   "name": "python3"
  },
  "language_info": {
   "codemirror_mode": {
    "name": "ipython",
    "version": 3
   },
   "file_extension": ".py",
   "mimetype": "text/x-python",
   "name": "python",
   "nbconvert_exporter": "python",
   "pygments_lexer": "ipython3",
   "version": "3.6.8"
  }
 },
 "nbformat": 4,
 "nbformat_minor": 2
}
